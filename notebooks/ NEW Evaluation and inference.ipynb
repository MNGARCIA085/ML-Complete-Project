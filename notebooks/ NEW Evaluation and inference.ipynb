{
 "cells": [
  {
   "cell_type": "code",
   "execution_count": null,
   "id": "4002f331-f34f-4b06-8277-935b42cb721c",
   "metadata": {},
   "outputs": [],
   "source": []
  },
  {
   "cell_type": "markdown",
   "id": "b0b594e6-8b57-4ba2-a9cf-ad17cbd2582c",
   "metadata": {},
   "source": [
    "-> Load model, preprocessing artifacts\n",
    "\n",
    "also metrics and show them\n",
    "\n",
    "-> Load plots and show them (roc, confussion matrix)\n",
    "\n",
    "-> Make inference\n"
   ]
  },
  {
   "cell_type": "code",
   "execution_count": null,
   "id": "9d759d8c-546b-4227-9521-3756212fe51d",
   "metadata": {},
   "outputs": [],
   "source": []
  },
  {
   "cell_type": "code",
   "execution_count": null,
   "id": "42182807-72a0-4b78-85c7-23377c218c61",
   "metadata": {},
   "outputs": [],
   "source": []
  },
  {
   "cell_type": "code",
   "execution_count": null,
   "id": "11a4f312-8241-4bba-82c6-146089ab5f97",
   "metadata": {},
   "outputs": [],
   "source": []
  },
  {
   "cell_type": "markdown",
   "id": "3406a945-f95f-428e-bdcf-6f81929ae10d",
   "metadata": {},
   "source": [
    "### Setup"
   ]
  },
  {
   "cell_type": "code",
   "execution_count": 35,
   "id": "ba00a4f2-bb6f-4134-b9a2-aea08616edc3",
   "metadata": {},
   "outputs": [],
   "source": [
    "# Complete MLflow loader for best run\n",
    "import mlflow\n",
    "import pickle\n",
    "import os\n",
    "import json\n",
    "import mlflow.tensorflow\n",
    "from mlflow.entities import ViewType\n"
   ]
  },
  {
   "cell_type": "code",
   "execution_count": null,
   "id": "7122024f-0f45-42f4-a75b-39af39cf39e7",
   "metadata": {},
   "outputs": [],
   "source": []
  },
  {
   "cell_type": "code",
   "execution_count": null,
   "id": "b35f4c50-0443-4f7a-9830-f47e4fce2f69",
   "metadata": {},
   "outputs": [],
   "source": []
  },
  {
   "cell_type": "code",
   "execution_count": 36,
   "id": "e87e45d9-1c00-4a9c-9361-4f209bbab150",
   "metadata": {},
   "outputs": [],
   "source": [
    "def get_best_run(runs, recall_threshold=0.8, metric_priority=\"f1_score\"):\n",
    "    \"\"\"\n",
    "    Select the best run based on recall threshold and a priority metric.\n",
    "    \n",
    "    Args:\n",
    "        runs (list of dict): Each dict should contain:\n",
    "            - \"metrics\" (dict)\n",
    "            - \"params\" (dict)\n",
    "            - \"tags\" (dict)\n",
    "            - \"run_id\" (str)\n",
    "            - \"artifact_uri\" (str)\n",
    "        recall_threshold (float): Minimum recall to be considered a candidate.\n",
    "        metric_priority (str): Metric to use when multiple candidates meet threshold.\n",
    "\n",
    "    Returns:\n",
    "        dict: The best run dictionary.\n",
    "    \"\"\"\n",
    "    # Filter candidates by recall\n",
    "    candidates = [r for r in runs if r[\"metrics\"].get(\"recall\", 0) >= recall_threshold]\n",
    "\n",
    "    # Pick best among candidates\n",
    "    if candidates:\n",
    "        return max(candidates, key=lambda r: r[\"metrics\"].get(metric_priority, float(\"-inf\")))\n",
    "\n",
    "    # Fallback: best recall overall\n",
    "    return max(runs, key=lambda r: r[\"metrics\"].get(\"recall\", float(\"-inf\")))\n",
    "\n"
   ]
  },
  {
   "cell_type": "code",
   "execution_count": null,
   "id": "3d49bc0e-1112-43cc-b700-2c306597f6e5",
   "metadata": {},
   "outputs": [],
   "source": []
  },
  {
   "cell_type": "code",
   "execution_count": null,
   "id": "aecb3384-665e-4b6d-a4ea-1e3db2e07ace",
   "metadata": {},
   "outputs": [],
   "source": []
  },
  {
   "cell_type": "code",
   "execution_count": null,
   "id": "f7a8c882-23fa-4829-8c68-16c63d0df532",
   "metadata": {},
   "outputs": [],
   "source": []
  },
  {
   "cell_type": "code",
   "execution_count": null,
   "id": "899b8f82-780a-497e-8b69-2f7c1db032ac",
   "metadata": {},
   "outputs": [],
   "source": []
  },
  {
   "cell_type": "code",
   "execution_count": null,
   "id": "291cdc77-a4b6-43cb-90fa-9c51b53d1efd",
   "metadata": {},
   "outputs": [],
   "source": []
  },
  {
   "cell_type": "code",
   "execution_count": 37,
   "id": "836f6967-09e2-4cdf-b345-8905e75f060f",
   "metadata": {},
   "outputs": [
    {
     "name": "stdout",
     "output_type": "stream",
     "text": [
      "/home/marcos/Escritorio/AI-prod/ML-Complete-Project/env/lib/python3.10/site-packages/pydantic/_internal/_config.py:323: PydanticDeprecatedSince20: Support for class-based `config` is deprecated, use ConfigDict instead. Deprecated in Pydantic V2.0 to be removed in V3.0. See Pydantic V2 Migration Guide at https://errors.pydantic.dev/2.11/migration/\n",
      "  warnings.warn(DEPRECATION_MESSAGE, DeprecationWarning)\n",
      "mlflow, version 3.4.0\n"
     ]
    }
   ],
   "source": [
    "!mlflow --version"
   ]
  },
  {
   "cell_type": "code",
   "execution_count": 38,
   "id": "3662a5b3-bc9c-46a2-987e-2c9301da9c5b",
   "metadata": {},
   "outputs": [
    {
     "name": "stdout",
     "output_type": "stream",
     "text": [
      "Tuning\n",
      "Default\n"
     ]
    }
   ],
   "source": [
    "from mlflow.tracking import MlflowClient\n",
    "\n",
    "exp = mlflow.search_experiments()\n",
    "\n",
    "for e in exp:\n",
    "    print(e.name)\n"
   ]
  },
  {
   "cell_type": "code",
   "execution_count": 39,
   "id": "dfc11f5a-3e6f-4c2c-80d6-925316a9a6e5",
   "metadata": {},
   "outputs": [
    {
     "name": "stdout",
     "output_type": "stream",
     "text": [
      "ID=820764776989512419, Name=Tuning\n"
     ]
    }
   ],
   "source": [
    "from mlflow.tracking import MlflowClient\n",
    "\n",
    "client = MlflowClient()\n",
    "experiment = client.get_experiment_by_name(\"Tuning\")\n",
    "\n",
    "if experiment is None:\n",
    "    print(\"Experiment not found\")\n",
    "else:\n",
    "    print(f\"ID={experiment.experiment_id}, Name={experiment.name}\")\n"
   ]
  },
  {
   "cell_type": "code",
   "execution_count": null,
   "id": "3c63b8b1-09f9-4b2d-8108-bfe142d7c4e0",
   "metadata": {},
   "outputs": [],
   "source": []
  },
  {
   "cell_type": "code",
   "execution_count": null,
   "id": "ae03e01c-db3e-4b2a-a642-7b438b98580c",
   "metadata": {},
   "outputs": [],
   "source": []
  },
  {
   "cell_type": "code",
   "execution_count": 40,
   "id": "e9200996-a119-4fa1-8241-b8e1bebe8dde",
   "metadata": {},
   "outputs": [
    {
     "name": "stdout",
     "output_type": "stream",
     "text": [
      "Best run ID: 517afad998fb488ab2a7357a25a208eb\n"
     ]
    }
   ],
   "source": [
    "\n",
    "# --------------------------\n",
    "# CONFIG\n",
    "# --------------------------\n",
    "\n",
    "\n",
    "\n",
    "\n",
    "\n",
    "#experiment_name = \"Tuning\"\n",
    "#experiment = mlflow.get_experiment_by_name(experiment_name)\n",
    "\n",
    "#if experiment is None:\n",
    "#    raise ValueError(f\"Experiment '{experiment_name}' not found.\")\n",
    "    \n",
    "experiment_id = experiment.experiment_id\n",
    "\n",
    "\n",
    "\n",
    "#experiment_id = '510814453281837565'\n",
    "\n",
    "\n",
    "\n",
    "tracking_uri = \"http://127.0.0.1:5000\"        # your MLflow server\n",
    "experiment_id = experiment_id         # experiment ID from UI\n",
    "metric_to_sort = \"f1\"                        # metric to choose the best run\n",
    "artifact_paths = {\n",
    "    \"preprocessing\": \"preprocessing\",       # folder under artifacts\n",
    "    \"plots\": \"plots\",                        # folder under artifacts\n",
    "    \"model\": \"model\"                         # model artifact path\n",
    "}\n",
    "\n",
    "# --------------------------\n",
    "# SET TRACKING URI\n",
    "# --------------------------\n",
    "mlflow.set_tracking_uri(tracking_uri)\n",
    "\n",
    "# --------------------------\n",
    "# SEARCH BEST RUN\n",
    "# --------------------------\n",
    "\n",
    "runs_df = mlflow.search_runs(\n",
    "    experiment_ids=[experiment_id],\n",
    "    filter_string=\"tags.mlflow.runName = 'best_overall'\", # ONLY SEARCHG in best runs\n",
    ")\n",
    "\n",
    "\n",
    "# Convert MLflow DataFrame to list of dicts\n",
    "runs = []\n",
    "for _, row in runs_df.iterrows():\n",
    "    runs.append({\n",
    "        \"run_id\": row[\"run_id\"],\n",
    "        \"metrics\": {k.replace(\"metrics.\", \"\"): row[k] for k in row.index if k.startswith(\"metrics.\")},\n",
    "        \"params\": {k.replace(\"params.\", \"\"): row[k] for k in row.index if k.startswith(\"params.\")},\n",
    "        \"tags\": {k.replace(\"tags.\", \"\"): row[k] for k in row.index if k.startswith(\"tags.\")},\n",
    "        \"artifact_uri\": row[\"artifact_uri\"]\n",
    "    })\n",
    "\n",
    "best_run = get_best_run(runs, recall_threshold=0.8, metric_priority=\"f1_score\")\n",
    "print(\"Best run ID:\", best_run[\"run_id\"])\n",
    "\n",
    "\n",
    "\n",
    "\"\"\"\n",
    "best_runs = mlflow.search_runs(\n",
    "    experiment_ids=[experiment_id],\n",
    "    run_view_type=ViewType.ACTIVE_ONLY,\n",
    "    order_by=[f\"metrics.{metric_to_sort} DESC\"],\n",
    "    filter_string=\"tags.mlflow.runName = 'best_overall'\", # ONLY SEARCHG in best runs\n",
    "    max_results=1\n",
    ")\n",
    "if best_runs.empty:\n",
    "    raise ValueError(\"No runs found in the experiment!\")\n",
    "\n",
    "best_run = best_runs.iloc[0]\n",
    "run_id = best_run.run_id\n",
    "print(f\"Best run_id: {run_id}\")\n",
    "\"\"\"\n",
    "\n",
    "\n",
    "run_id = best_run[\"run_id\"]\n"
   ]
  },
  {
   "cell_type": "code",
   "execution_count": 41,
   "id": "06780075-df4a-43ec-a7eb-c9184da9c80b",
   "metadata": {},
   "outputs": [
    {
     "data": {
      "text/plain": [
       "{'run_id': '517afad998fb488ab2a7357a25a208eb',\n",
       " 'metrics': {'f1_score': 0.999999995,\n",
       "  'precision': 1.0,\n",
       "  'recall': 1.0,\n",
       "  'loss': 0.046002913266420364,\n",
       "  'accuracy': 1.0},\n",
       " 'params': {'learning_rate': '0.00544853401907757',\n",
       "  'model_name': 'baseline',\n",
       "  'epochs': '15'},\n",
       " 'tags': {'mlflow.user': 'marcos',\n",
       "  'mlflow.source.git.commit': 'c2a481a9ac8e426f3528f576cd6ba924908dcbbb',\n",
       "  'mlflow.runName': 'best_overall',\n",
       "  'mlflow.source.type': 'LOCAL',\n",
       "  'mlflow.source.name': '/home/marcos/Escritorio/AI-prod/ML-Complete-Project/scripts/tuning.py'},\n",
       " 'artifact_uri': 'file:///home/marcos/Escritorio/AI-prod/ML-Complete-Project/mlruns/820764776989512419/517afad998fb488ab2a7357a25a208eb/artifacts'}"
      ]
     },
     "execution_count": 41,
     "metadata": {},
     "output_type": "execute_result"
    }
   ],
   "source": [
    "best_run"
   ]
  },
  {
   "cell_type": "code",
   "execution_count": 42,
   "id": "6a644d5a-a4cc-4d89-950b-746f09357bb0",
   "metadata": {},
   "outputs": [
    {
     "name": "stdout",
     "output_type": "stream",
     "text": [
      "Params: {'learning_rate': '0.00544853401907757', 'model_name': 'baseline', 'epochs': '15'}\n",
      "Metrics: {'f1_score': 0.999999995, 'precision': 1.0, 'recall': 1.0, 'loss': 0.046002913266420364, 'accuracy': 1.0}\n"
     ]
    }
   ],
   "source": [
    "# --------------------------\n",
    "# LOAD PARAMS AND METRICS\n",
    "# --------------------------\n",
    "params = best_run['params']\n",
    "metrics = best_run['metrics']\n",
    "print(\"Params:\", params)\n",
    "print(\"Metrics:\", metrics)\n"
   ]
  },
  {
   "cell_type": "markdown",
   "id": "c7a0825f-5911-46f0-968e-0b9fe49f2e77",
   "metadata": {},
   "source": [
    "### Preprocessing artifacts"
   ]
  },
  {
   "cell_type": "code",
   "execution_count": 43,
   "id": "9465a913-b1d5-4178-a5e0-8c4e2ceb9819",
   "metadata": {},
   "outputs": [
    {
     "name": "stdout",
     "output_type": "stream",
     "text": [
      "Preprocessing artifacts downloaded to: /tmp/tmpc9_bvx8o/preprocessing\n",
      "Scaler, encoder, and features loaded successfully!\n",
      "TensorFlow model loaded successfully!\n"
     ]
    }
   ],
   "source": [
    "\n",
    "# --------------------------\n",
    "# DOWNLOAD PREPROCESSING ARTIFACTS\n",
    "# --------------------------\n",
    "preproc_dir = mlflow.artifacts.download_artifacts(run_id=run_id, artifact_path=artifact_paths[\"preprocessing\"])\n",
    "print(\"Preprocessing artifacts downloaded to:\", preproc_dir)\n",
    "\n",
    "# Load scaler\n",
    "scaler_file = os.path.join(preproc_dir, \"scaler.pkl\")\n",
    "with open(scaler_file, \"rb\") as f:\n",
    "    scaler = pickle.load(f)\n",
    "\n",
    "# Load encoder\n",
    "encoder_file = os.path.join(preproc_dir, \"encoder.pkl\")\n",
    "with open(encoder_file, \"rb\") as f:\n",
    "    encoder = pickle.load(f)\n",
    "\n",
    "# Load features\n",
    "features_file = os.path.join(preproc_dir, \"features.json\")\n",
    "with open(features_file, \"r\") as f:\n",
    "    features = json.load(f)\n",
    "\n",
    "print(\"Scaler, encoder, and features loaded successfully!\")\n",
    "\n",
    "# --------------------------\n",
    "# LOAD MODEL\n",
    "# --------------------------\n",
    "model_uri = f\"runs:/{run_id}/{artifact_paths['model']}\"\n",
    "model = mlflow.tensorflow.load_model(model_uri)\n",
    "print(\"TensorFlow model loaded successfully!\")\n"
   ]
  },
  {
   "cell_type": "code",
   "execution_count": 44,
   "id": "4ccd12b8-64e8-4648-b2c4-d93ff64c96d6",
   "metadata": {},
   "outputs": [
    {
     "data": {
      "text/plain": [
       "{'features': ['radius_mean',\n",
       "  'texture_mean',\n",
       "  'perimeter_mean',\n",
       "  'area_mean',\n",
       "  'smoothness_mean',\n",
       "  'compactness_mean',\n",
       "  'concavity_mean',\n",
       "  'concave points_mean',\n",
       "  'symmetry_mean',\n",
       "  'fractal_dimension_mean',\n",
       "  'radius_se',\n",
       "  'texture_se',\n",
       "  'perimeter_se',\n",
       "  'area_se',\n",
       "  'smoothness_se',\n",
       "  'compactness_se',\n",
       "  'concavity_se',\n",
       "  'concave points_se',\n",
       "  'symmetry_se',\n",
       "  'fractal_dimension_se',\n",
       "  'radius_worst',\n",
       "  'texture_worst',\n",
       "  'perimeter_worst',\n",
       "  'area_worst',\n",
       "  'smoothness_worst',\n",
       "  'compactness_worst',\n",
       "  'concavity_worst',\n",
       "  'concave points_worst',\n",
       "  'symmetry_worst',\n",
       "  'fractal_dimension_worst']}"
      ]
     },
     "execution_count": 44,
     "metadata": {},
     "output_type": "execute_result"
    }
   ],
   "source": [
    "features"
   ]
  },
  {
   "cell_type": "code",
   "execution_count": 45,
   "id": "322bd2bf-ceb4-483f-8ea0-c2fb608329d7",
   "metadata": {},
   "outputs": [
    {
     "data": {
      "text/plain": [
       "{'M': 1, 'B': 0}"
      ]
     },
     "execution_count": 45,
     "metadata": {},
     "output_type": "execute_result"
    }
   ],
   "source": [
    "encoder"
   ]
  },
  {
   "cell_type": "code",
   "execution_count": 46,
   "id": "11acb7e2-75aa-4570-bf19-390f33972748",
   "metadata": {},
   "outputs": [
    {
     "data": {
      "text/plain": [
       "array([1.41559238e+01, 1.93511328e+01, 9.21518750e+01, 6.58153516e+02,\n",
       "       9.61988672e-02, 1.03554531e-01, 8.85161713e-02, 4.88897402e-02,\n",
       "       1.81255273e-01, 6.27087305e-02, 4.09529102e-01, 1.21794902e+00,\n",
       "       2.90134512e+00, 4.10547617e+01, 6.94725781e-03, 2.51113359e-02,\n",
       "       3.16497336e-02, 1.17416348e-02, 2.04345078e-02, 3.75897129e-03,\n",
       "       1.63169453e+01, 2.57480273e+01, 1.07621934e+02, 8.86556445e+02,\n",
       "       1.32138906e-01, 2.53280762e-01, 2.71695561e-01, 1.14682229e-01,\n",
       "       2.90017188e-01, 8.38891016e-02])"
      ]
     },
     "execution_count": 46,
     "metadata": {},
     "output_type": "execute_result"
    }
   ],
   "source": [
    "scaler.mean_"
   ]
  },
  {
   "cell_type": "markdown",
   "id": "9e86d4a7-d742-4976-b66f-6aa6cc762cf0",
   "metadata": {},
   "source": [
    "# si aprovecho y guardo plots los cargo acá (roc,......)"
   ]
  },
  {
   "cell_type": "code",
   "execution_count": 47,
   "id": "3858b566-d37b-4224-81b0-4f7e4c2edaca",
   "metadata": {},
   "outputs": [
    {
     "name": "stdout",
     "output_type": "stream",
     "text": [
      "['roc_curve.png', 'confusion_matrix.png']\n"
     ]
    },
    {
     "data": {
      "image/png": "[encoded data removed]",
      "text/plain": [
       "<Figure size 640x480 with 1 Axes>"
      ]
     },
     "metadata": {},
     "output_type": "display_data"
    }
   ],
   "source": [
    "import os\n",
    "import matplotlib.pyplot as plt\n",
    "import matplotlib.image as mpimg\n",
    "\n",
    "# Download the folder with plots\n",
    "plots_dir = mlflow.artifacts.download_artifacts(run_id=run_id, artifact_path=\"plots\")\n",
    "\n",
    "# Check what files exist\n",
    "print(os.listdir(plots_dir))\n",
    "\n",
    "# Build the full path (make sure spelling matches your saved file)\n",
    "conf_matrix_path = os.path.join(plots_dir, \"confusion_matrix.png\")\n",
    "\n",
    "# Load and display in Jupyter\n",
    "img = mpimg.imread(conf_matrix_path)\n",
    "plt.imshow(img)\n",
    "plt.axis(\"off\")\n",
    "plt.show()\n"
   ]
  },
  {
   "cell_type": "code",
   "execution_count": 48,
   "id": "87f1e2a0-ee49-4044-8a8f-9dc920feb059",
   "metadata": {},
   "outputs": [
    {
     "name": "stdout",
     "output_type": "stream",
     "text": [
      "['roc_curve.png', 'confusion_matrix.png']\n"
     ]
    },
    {
     "data": {
      "image/png": "[encoded data removed]",
      "text/plain": [
       "<Figure size 640x480 with 1 Axes>"
      ]
     },
     "metadata": {},
     "output_type": "display_data"
    }
   ],
   "source": [
    "import os\n",
    "import matplotlib.pyplot as plt\n",
    "import matplotlib.image as mpimg\n",
    "\n",
    "# Download the folder with plots\n",
    "plots_dir = mlflow.artifacts.download_artifacts(run_id=run_id, artifact_path=\"plots\")\n",
    "\n",
    "# Check what files exist\n",
    "print(os.listdir(plots_dir))\n",
    "\n",
    "# Build the full path (make sure spelling matches your saved file)\n",
    "conf_matrix_path = os.path.join(plots_dir, \"roc_curve.png\")\n",
    "\n",
    "# Load and display in Jupyter\n",
    "img = mpimg.imread(conf_matrix_path)\n",
    "plt.imshow(img)\n",
    "plt.axis(\"off\")\n",
    "plt.show()"
   ]
  },
  {
   "cell_type": "code",
   "execution_count": null,
   "id": "ab8d6df9-96fd-437e-9cdf-b2350dccdd74",
   "metadata": {},
   "outputs": [],
   "source": []
  },
  {
   "cell_type": "code",
   "execution_count": null,
   "id": "05e8294b-c4b2-4f03-893a-3ba756646642",
   "metadata": {},
   "outputs": [],
   "source": []
  },
  {
   "cell_type": "code",
   "execution_count": null,
   "id": "402cbe70-a47e-4496-b099-63e0e188677c",
   "metadata": {},
   "outputs": [],
   "source": []
  },
  {
   "cell_type": "markdown",
   "id": "a1f2115f-fa0f-40ba-80de-776016eb930b",
   "metadata": {},
   "source": [
    "## Inference"
   ]
  },
  {
   "cell_type": "code",
   "execution_count": 49,
   "id": "d6893ae8-d881-4510-9ceb-6816f5ade3a5",
   "metadata": {},
   "outputs": [],
   "source": [
    "import numpy as np\n",
    "import pandas as pd\n",
    "\n",
    "new_data = np.random.rand(30)\n"
   ]
  },
  {
   "cell_type": "code",
   "execution_count": 50,
   "id": "0f76bd82-a1c0-46a8-a80d-58b89d307106",
   "metadata": {},
   "outputs": [
    {
     "data": {
      "text/plain": [
       "array([[ -3.86240244,  -4.44922973,  -3.73486459,  -1.84521626,\n",
       "          1.43460038,   0.47476739,   5.42891317,   3.93639366,\n",
       "         27.11546842, 106.7032175 ,  -0.94938488,  -0.82568616,\n",
       "         -0.95942203,  -0.85704112,  23.43205386,  53.96558245,\n",
       "          4.45416053,  67.44745596,  96.93544436,  69.86167801,\n",
       "         -3.24430713,  -4.13846096,  -3.16500335,  -1.53672097,\n",
       "         -2.86719296,  -0.43514362,   0.92044316,   4.25653766,\n",
       "         -1.43075883,  19.4380798 ]])"
      ]
     },
     "execution_count": 50,
     "metadata": {},
     "output_type": "execute_result"
    }
   ],
   "source": [
    "# Convert to DataFrame with proper column names\n",
    "new_data_df = pd.DataFrame([new_data], columns=features['features'])\n",
    "\n",
    "scaled_data = scaler.transform(new_data_df)\n",
    "\n",
    "scaled_data"
   ]
  },
  {
   "cell_type": "code",
   "execution_count": 51,
   "id": "ffa0520f-8e23-4b5d-ace4-12bd00ab1bff",
   "metadata": {},
   "outputs": [
    {
     "name": "stdout",
     "output_type": "stream",
     "text": [
      "\u001b[1m1/1\u001b[0m \u001b[32m━━━━━━━━━━━━━━━━━━━━\u001b[0m\u001b[37m\u001b[0m \u001b[1m0s\u001b[0m 56ms/step\n"
     ]
    }
   ],
   "source": [
    "y_pred = model.predict(scaled_data)"
   ]
  },
  {
   "cell_type": "code",
   "execution_count": 52,
   "id": "47d45bd9-e5a6-4a10-b245-43d7823f8d7f",
   "metadata": {},
   "outputs": [
    {
     "data": {
      "text/plain": [
       "array([[1.8123825e-12]], dtype=float32)"
      ]
     },
     "execution_count": 52,
     "metadata": {},
     "output_type": "execute_result"
    }
   ],
   "source": [
    "y_pred"
   ]
  },
  {
   "cell_type": "code",
   "execution_count": 53,
   "id": "86ce2bb9-86f9-4308-9eaa-548825d78b8b",
   "metadata": {},
   "outputs": [
    {
     "data": {
      "text/plain": [
       "array([0.46378378, 0.17355795, 0.68976073, 0.88500911, 0.11656625,\n",
       "       0.12873557, 0.52569144, 0.20323905, 0.92516593, 0.79695883,\n",
       "       0.13807001, 0.75630391, 0.8929617 , 0.65439321, 0.07455134,\n",
       "       0.95795806, 0.16827468, 0.43471351, 0.82243805, 0.18322448,\n",
       "       0.53719393, 0.35656188, 0.19919887, 0.56501959, 0.06578961,\n",
       "       0.18507312, 0.4641497 , 0.39575243, 0.20227283, 0.43392421])"
      ]
     },
     "execution_count": 53,
     "metadata": {},
     "output_type": "execute_result"
    }
   ],
   "source": [
    "new_data"
   ]
  },
  {
   "cell_type": "code",
   "execution_count": 54,
   "id": "592fba2e-161f-475b-a8e0-160285fde29c",
   "metadata": {},
   "outputs": [
    {
     "data": {
      "text/html": [
       "<pre style=\"white-space:pre;overflow-x:auto;line-height:normal;font-family:Menlo,'DejaVu Sans Mono',consolas,'Courier New',monospace\"><span style=\"font-weight: bold\">Model: \"baseline\"</span>\n",
       "</pre>\n"
      ],
      "text/plain": [
       "\u001b[1mModel: \"baseline\"\u001b[0m\n"
      ]
     },
     "metadata": {},
     "output_type": "display_data"
    },
    {
     "data": {
      "text/html": [
       "<pre style=\"white-space:pre;overflow-x:auto;line-height:normal;font-family:Menlo,'DejaVu Sans Mono',consolas,'Courier New',monospace\">┏━━━━━━━━━━━━━━━━━━━━━━━━━━━━━━━━━┳━━━━━━━━━━━━━━━━━━━━━━━━┳━━━━━━━━━━━━━━━┓\n",
       "┃<span style=\"font-weight: bold\"> Layer (type)                    </span>┃<span style=\"font-weight: bold\"> Output Shape           </span>┃<span style=\"font-weight: bold\">       Param # </span>┃\n",
       "┡━━━━━━━━━━━━━━━━━━━━━━━━━━━━━━━━━╇━━━━━━━━━━━━━━━━━━━━━━━━╇━━━━━━━━━━━━━━━┩\n",
       "│ dense (<span style=\"color: #0087ff; text-decoration-color: #0087ff\">Dense</span>)                   │ (<span style=\"color: #00d7ff; text-decoration-color: #00d7ff\">None</span>, <span style=\"color: #00af00; text-decoration-color: #00af00\">10</span>)             │           <span style=\"color: #00af00; text-decoration-color: #00af00\">310</span> │\n",
       "├─────────────────────────────────┼────────────────────────┼───────────────┤\n",
       "│ dense_1 (<span style=\"color: #0087ff; text-decoration-color: #0087ff\">Dense</span>)                 │ (<span style=\"color: #00d7ff; text-decoration-color: #00d7ff\">None</span>, <span style=\"color: #00af00; text-decoration-color: #00af00\">1</span>)              │            <span style=\"color: #00af00; text-decoration-color: #00af00\">11</span> │\n",
       "└─────────────────────────────────┴────────────────────────┴───────────────┘\n",
       "</pre>\n"
      ],
      "text/plain": [
       "┏━━━━━━━━━━━━━━━━━━━━━━━━━━━━━━━━━┳━━━━━━━━━━━━━━━━━━━━━━━━┳━━━━━━━━━━━━━━━┓\n",
       "┃\u001b[1m \u001b[0m\u001b[1mLayer (type)                   \u001b[0m\u001b[1m \u001b[0m┃\u001b[1m \u001b[0m\u001b[1mOutput Shape          \u001b[0m\u001b[1m \u001b[0m┃\u001b[1m \u001b[0m\u001b[1m      Param #\u001b[0m\u001b[1m \u001b[0m┃\n",
       "┡━━━━━━━━━━━━━━━━━━━━━━━━━━━━━━━━━╇━━━━━━━━━━━━━━━━━━━━━━━━╇━━━━━━━━━━━━━━━┩\n",
       "│ dense (\u001b[38;5;33mDense\u001b[0m)                   │ (\u001b[38;5;45mNone\u001b[0m, \u001b[38;5;34m10\u001b[0m)             │           \u001b[38;5;34m310\u001b[0m │\n",
       "├─────────────────────────────────┼────────────────────────┼───────────────┤\n",
       "│ dense_1 (\u001b[38;5;33mDense\u001b[0m)                 │ (\u001b[38;5;45mNone\u001b[0m, \u001b[38;5;34m1\u001b[0m)              │            \u001b[38;5;34m11\u001b[0m │\n",
       "└─────────────────────────────────┴────────────────────────┴───────────────┘\n"
      ]
     },
     "metadata": {},
     "output_type": "display_data"
    },
    {
     "data": {
      "text/html": [
       "<pre style=\"white-space:pre;overflow-x:auto;line-height:normal;font-family:Menlo,'DejaVu Sans Mono',consolas,'Courier New',monospace\"><span style=\"font-weight: bold\"> Total params: </span><span style=\"color: #00af00; text-decoration-color: #00af00\">965</span> (3.77 KB)\n",
       "</pre>\n"
      ],
      "text/plain": [
       "\u001b[1m Total params: \u001b[0m\u001b[38;5;34m965\u001b[0m (3.77 KB)\n"
      ]
     },
     "metadata": {},
     "output_type": "display_data"
    },
    {
     "data": {
      "text/html": [
       "<pre style=\"white-space:pre;overflow-x:auto;line-height:normal;font-family:Menlo,'DejaVu Sans Mono',consolas,'Courier New',monospace\"><span style=\"font-weight: bold\"> Trainable params: </span><span style=\"color: #00af00; text-decoration-color: #00af00\">321</span> (1.25 KB)\n",
       "</pre>\n"
      ],
      "text/plain": [
       "\u001b[1m Trainable params: \u001b[0m\u001b[38;5;34m321\u001b[0m (1.25 KB)\n"
      ]
     },
     "metadata": {},
     "output_type": "display_data"
    },
    {
     "data": {
      "text/html": [
       "<pre style=\"white-space:pre;overflow-x:auto;line-height:normal;font-family:Menlo,'DejaVu Sans Mono',consolas,'Courier New',monospace\"><span style=\"font-weight: bold\"> Non-trainable params: </span><span style=\"color: #00af00; text-decoration-color: #00af00\">0</span> (0.00 B)\n",
       "</pre>\n"
      ],
      "text/plain": [
       "\u001b[1m Non-trainable params: \u001b[0m\u001b[38;5;34m0\u001b[0m (0.00 B)\n"
      ]
     },
     "metadata": {},
     "output_type": "display_data"
    },
    {
     "data": {
      "text/html": [
       "<pre style=\"white-space:pre;overflow-x:auto;line-height:normal;font-family:Menlo,'DejaVu Sans Mono',consolas,'Courier New',monospace\"><span style=\"font-weight: bold\"> Optimizer params: </span><span style=\"color: #00af00; text-decoration-color: #00af00\">644</span> (2.52 KB)\n",
       "</pre>\n"
      ],
      "text/plain": [
       "\u001b[1m Optimizer params: \u001b[0m\u001b[38;5;34m644\u001b[0m (2.52 KB)\n"
      ]
     },
     "metadata": {},
     "output_type": "display_data"
    }
   ],
   "source": [
    "model.summary()"
   ]
  },
  {
   "cell_type": "code",
   "execution_count": null,
   "id": "c5cbf2cc-ac77-400f-b540-86f0e3e87f24",
   "metadata": {},
   "outputs": [],
   "source": []
  },
  {
   "cell_type": "code",
   "execution_count": null,
   "id": "b7c17c0f-8e24-43e6-a15f-f04b776f4655",
   "metadata": {},
   "outputs": [],
   "source": []
  },
  {
   "cell_type": "code",
   "execution_count": null,
   "id": "cc975fa8-7b22-4707-9c66-83f5444e6edd",
   "metadata": {},
   "outputs": [],
   "source": []
  },
  {
   "cell_type": "code",
   "execution_count": null,
   "id": "8887aeab-1f11-42ec-a0c3-c04a86a015bc",
   "metadata": {},
   "outputs": [],
   "source": []
  },
  {
   "cell_type": "code",
   "execution_count": null,
   "id": "5f23cefe-e2b3-4bb2-b364-ab1cb5d854e5",
   "metadata": {},
   "outputs": [],
   "source": []
  },
  {
   "cell_type": "code",
   "execution_count": null,
   "id": "68220b3a-ad90-4f58-a57a-658024bcee59",
   "metadata": {},
   "outputs": [],
   "source": []
  },
  {
   "cell_type": "code",
   "execution_count": null,
   "id": "af6972eb-37ee-47ca-88a8-e4cfcd4766ee",
   "metadata": {},
   "outputs": [],
   "source": []
  },
  {
   "cell_type": "markdown",
   "id": "4173d95a-099b-4648-b07d-5965110b1a34",
   "metadata": {},
   "source": [
    "----------_> MARKDOWNS"
   ]
  },
  {
   "cell_type": "code",
   "execution_count": null,
   "id": "1a81b266-6005-4427-ae0d-032597259c4f",
   "metadata": {},
   "outputs": [],
   "source": []
  }
 ],
 "metadata": {
  "kernelspec": {
   "display_name": "Python 3 (ipykernel)",
   "language": "python",
   "name": "python3"
  },
  "language_info": {
   "codemirror_mode": {
    "name": "ipython",
    "version": 3
   },
   "file_extension": ".py",
   "mimetype": "text/x-python",
   "name": "python",
   "nbconvert_exporter": "python",
   "pygments_lexer": "ipython3",
   "version": "3.10.12"
  }
 },
 "nbformat": 4,
 "nbformat_minor": 5
}
