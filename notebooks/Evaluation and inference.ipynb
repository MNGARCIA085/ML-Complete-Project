{
 "cells": [
  {
   "cell_type": "markdown",
   "id": "5acc5554-1006-432b-8f95-728a37d8ab96",
   "metadata": {},
   "source": [
    "<h1 style=\"text-align: center; color: darkblue;\">Evaluation and Inference</h1>"
   ]
  },
  {
   "cell_type": "markdown",
   "id": "71525fe9-b218-4f7d-80cb-4a8e8e925c26",
   "metadata": {},
   "source": [
    "### 📑 <font color='blue'> Table of Contents </font>\n",
    "1. [Introduction](#1)\n",
    "2. [Setup](#2)\n",
    "3. [Load best run and artifacs](#3)\n",
    "4. [Results and visualization](#4)\n",
    "5. [Inference](#5)"
   ]
  },
  {
   "cell_type": "markdown",
   "id": "690da8b7-1412-49c3-ba60-abc212b932bb",
   "metadata": {},
   "source": [
    "## <a id=\"1\" style=\"color: darkred; text-decoration: none;\">1. Introduction</a>\n",
    "\n",
    "This notebook showcases the results of the project. It loads the trained model and associated artifacts from MLflow, evaluates performance on the test set using metrics and visualizations, and demonstrates how to perform inference on new data. The goal is to provide a clear overview of the model’s effectiveness and practical usage."
   ]
  },
  {
   "cell_type": "markdown",
   "id": "3406a945-f95f-428e-bdcf-6f81929ae10d",
   "metadata": {},
   "source": [
    "## <a id=\"2\" style=\"color: darkred; text-decoration: none;\">2. Setup</a>"
   ]
  },
  {
   "cell_type": "code",
   "execution_count": 22,
   "id": "ba00a4f2-bb6f-4134-b9a2-aea08616edc3",
   "metadata": {},
   "outputs": [],
   "source": [
    "import mlflow\n",
    "import pickle\n",
    "import os\n",
    "import json\n",
    "import mlflow.tensorflow\n",
    "from mlflow.entities import ViewType\n",
    "from mlflow.tracking import MlflowClient\n",
    "import matplotlib.pyplot as plt\n",
    "import matplotlib.image as mpimg\n",
    "import numpy as np\n",
    "import pandas as pd"
   ]
  },
  {
   "cell_type": "code",
   "execution_count": 2,
   "id": "7122024f-0f45-42f4-a75b-39af39cf39e7",
   "metadata": {},
   "outputs": [],
   "source": [
    "EXPERIMENT_NAME = 'Tuning'"
   ]
  },
  {
   "cell_type": "markdown",
   "id": "6bf3ed72-37b4-429c-9f20-57767ff597da",
   "metadata": {},
   "source": [
    "## <a id=\"3\" style=\"color: darkred; text-decoration: none;\">3. Load best run and artifacts</a>"
   ]
  },
  {
   "cell_type": "markdown",
   "id": "1e40adaf-b623-4a38-b555-6e612099a72e",
   "metadata": {},
   "source": [
    "**Get best run**\n",
    "\n",
    "First, we will retrieve the best run from our experiment."
   ]
  },
  {
   "cell_type": "code",
   "execution_count": 3,
   "id": "e87e45d9-1c00-4a9c-9361-4f209bbab150",
   "metadata": {},
   "outputs": [],
   "source": [
    "# auxiliary fn. to get the best run according to our criterion\n",
    "def get_best_run(runs, recall_threshold=0.8, metric_priority=\"f1_score\"):\n",
    "    \"\"\"\n",
    "    Select the best run based on recall threshold and a priority metric.\n",
    "    \n",
    "    Args:\n",
    "        runs (list of dict): Each dict should contain:\n",
    "            - \"metrics\" (dict)\n",
    "            - \"params\" (dict)\n",
    "            - \"tags\" (dict)\n",
    "            - \"run_id\" (str)\n",
    "            - \"artifact_uri\" (str)\n",
    "        recall_threshold (float): Minimum recall to be considered a candidate.\n",
    "        metric_priority (str): Metric to use when multiple candidates meet threshold.\n",
    "\n",
    "    Returns:\n",
    "        dict: The best run dictionary.\n",
    "    \"\"\"\n",
    "    # Filter candidates by recall\n",
    "    candidates = [r for r in runs if r[\"metrics\"].get(\"recall\", 0) >= recall_threshold]\n",
    "\n",
    "    # Pick best among candidates\n",
    "    if candidates:\n",
    "        return max(candidates, key=lambda r: r[\"metrics\"].get(metric_priority, float(\"-inf\")))\n",
    "\n",
    "    # Fallback: best recall overall\n",
    "    return max(runs, key=lambda r: r[\"metrics\"].get(\"recall\", float(\"-inf\")))\n",
    "\n"
   ]
  },
  {
   "cell_type": "code",
   "execution_count": 8,
   "id": "9e552651-e502-474e-878f-c550358a5b6d",
   "metadata": {},
   "outputs": [],
   "source": [
    "# --------------------------\n",
    "# SET TRACKING URI\n",
    "# --------------------------\n",
    "\n",
    "tracking_uri = \"http://127.0.0.1:5000\" # MLflow server\n",
    "\n",
    "mlflow.set_tracking_uri(tracking_uri)\n"
   ]
  },
  {
   "cell_type": "code",
   "execution_count": 9,
   "id": "3d49bc0e-1112-43cc-b700-2c306597f6e5",
   "metadata": {},
   "outputs": [
    {
     "name": "stdout",
     "output_type": "stream",
     "text": [
      "Tuning\n",
      "Default\n"
     ]
    }
   ],
   "source": [
    "# All experiments\n",
    "exp = mlflow.search_experiments()\n",
    "\n",
    "for e in exp:\n",
    "    print(e.name)"
   ]
  },
  {
   "cell_type": "code",
   "execution_count": 10,
   "id": "aecb3384-665e-4b6d-a4ea-1e3db2e07ace",
   "metadata": {},
   "outputs": [
    {
     "name": "stdout",
     "output_type": "stream",
     "text": [
      "ID=567280011560440580, Name=Tuning\n"
     ]
    }
   ],
   "source": [
    "# get experiment ID\n",
    "client = MlflowClient()\n",
    "experiment = client.get_experiment_by_name(\"Tuning\")\n",
    "\n",
    "if experiment is None:\n",
    "    print(\"Experiment not found\")\n",
    "else:\n",
    "    experiment_id = experiment.experiment_id\n",
    "    print(f\"ID={experiment_id}, Name={experiment.name}\")"
   ]
  },
  {
   "cell_type": "code",
   "execution_count": 11,
   "id": "e9200996-a119-4fa1-8241-b8e1bebe8dde",
   "metadata": {},
   "outputs": [
    {
     "name": "stdout",
     "output_type": "stream",
     "text": [
      "Best run ID: d500fa9898da4ffbb7b5b2d4d9161cf8\n"
     ]
    }
   ],
   "source": [
    "# --------------------------\n",
    "# CONFIG\n",
    "# --------------------------\n",
    "\n",
    "experiment_id = experiment_id         # experiment ID from UI\n",
    "metric_to_sort = \"f1\"                        # metric to choose the best run\n",
    "artifact_paths = {\n",
    "    \"preprocessing\": \"preprocessing\",       # folder under artifacts\n",
    "    \"plots\": \"plots\",                        # folder under artifacts\n",
    "    \"model\": \"model\"                         # model artifact path\n",
    "}\n",
    "\n",
    "\n",
    "# --------------------------\n",
    "# SEARCH BEST RUN\n",
    "# --------------------------\n",
    "\n",
    "runs_df = mlflow.search_runs(\n",
    "    experiment_ids=[experiment_id],\n",
    "    filter_string=\"tags.mlflow.runName = 'best_overall'\", # ONLY SEARCHG in best runs\n",
    ")\n",
    "\n",
    "\n",
    "# Convert MLflow DataFrame to list of dicts\n",
    "runs = []\n",
    "for _, row in runs_df.iterrows():\n",
    "    runs.append({\n",
    "        \"run_id\": row[\"run_id\"],\n",
    "        \"metrics\": {k.replace(\"metrics.\", \"\"): row[k] for k in row.index if k.startswith(\"metrics.\")},\n",
    "        \"params\": {k.replace(\"params.\", \"\"): row[k] for k in row.index if k.startswith(\"params.\")},\n",
    "        \"tags\": {k.replace(\"tags.\", \"\"): row[k] for k in row.index if k.startswith(\"tags.\")},\n",
    "        \"artifact_uri\": row[\"artifact_uri\"]\n",
    "    })\n",
    "\n",
    "best_run = get_best_run(runs, recall_threshold=0.8, metric_priority=\"f1_score\")\n",
    "print(\"Best run ID:\", best_run[\"run_id\"])\n",
    "\n",
    "# run id\n",
    "run_id = best_run[\"run_id\"]\n"
   ]
  },
  {
   "cell_type": "code",
   "execution_count": 12,
   "id": "06780075-df4a-43ec-a7eb-c9184da9c80b",
   "metadata": {},
   "outputs": [
    {
     "data": {
      "text/plain": [
       "{'run_id': 'd500fa9898da4ffbb7b5b2d4d9161cf8',\n",
       " 'metrics': {'test_loss': 0.05037424713373184,\n",
       "  'recall': 1.0,\n",
       "  'test_recall': 0.976190447807312,\n",
       "  'f1_score': 0.999999995,\n",
       "  'test_accuracy': 0.9912280440330505,\n",
       "  'accuracy': 1.0,\n",
       "  'test_precision': 1.0,\n",
       "  'test_f1': 0.9879517876940334,\n",
       "  'loss': 0.029187895357608795,\n",
       "  'precision': 1.0},\n",
       " 'params': {'dropout_rate': '0.4',\n",
       "  'model_name': 'model1',\n",
       "  'epochs': '5',\n",
       "  'learning_rate': '0.00544853401907757'},\n",
       " 'tags': {'mlflow.user': 'marcos',\n",
       "  'mlflow.source.name': '/home/marcos/Escritorio/AI-prod/ML-Complete-Project/scripts/pipeline.py',\n",
       "  'mlflow.source.git.commit': 'fd2b58cd6543fc9232c9b1b7eb2015c90bc880d9',\n",
       "  'mlflow.source.type': 'LOCAL',\n",
       "  'mlflow.runName': 'best_overall'},\n",
       " 'artifact_uri': 'file:///home/marcos/Escritorio/AI-prod/ML-Complete-Project/mlruns/567280011560440580/d500fa9898da4ffbb7b5b2d4d9161cf8/artifacts'}"
      ]
     },
     "execution_count": 12,
     "metadata": {},
     "output_type": "execute_result"
    }
   ],
   "source": [
    "best_run"
   ]
  },
  {
   "cell_type": "markdown",
   "id": "39b5c269-0f5e-449b-a1b2-b628e21865eb",
   "metadata": {},
   "source": [
    "**Load model**"
   ]
  },
  {
   "cell_type": "code",
   "execution_count": 13,
   "id": "56f1f31c-cfa6-4a1f-8fcf-270bf03eb29b",
   "metadata": {},
   "outputs": [
    {
     "name": "stdout",
     "output_type": "stream",
     "text": [
      "TensorFlow model loaded successfully!\n"
     ]
    },
    {
     "name": "stderr",
     "output_type": "stream",
     "text": [
      "2025-10-03 20:31:55.651258: E external/local_xla/xla/stream_executor/cuda/cuda_platform.cc:51] failed call to cuInit: INTERNAL: CUDA error: Failed call to cuInit: UNKNOWN ERROR (303)\n"
     ]
    }
   ],
   "source": [
    "# --------------------------\n",
    "# LOAD MODEL\n",
    "# --------------------------\n",
    "model_uri = f\"runs:/{run_id}/{artifact_paths['model']}\"\n",
    "model = mlflow.tensorflow.load_model(model_uri)\n",
    "print(\"TensorFlow model loaded successfully!\")"
   ]
  },
  {
   "cell_type": "code",
   "execution_count": 14,
   "id": "4f040549-5e2e-4ff6-a167-ce45647397f2",
   "metadata": {},
   "outputs": [
    {
     "data": {
      "text/html": [
       "<pre style=\"white-space:pre;overflow-x:auto;line-height:normal;font-family:Menlo,'DejaVu Sans Mono',consolas,'Courier New',monospace\"><span style=\"font-weight: bold\">Model: \"model1\"</span>\n",
       "</pre>\n"
      ],
      "text/plain": [
       "\u001b[1mModel: \"model1\"\u001b[0m\n"
      ]
     },
     "metadata": {},
     "output_type": "display_data"
    },
    {
     "data": {
      "text/html": [
       "<pre style=\"white-space:pre;overflow-x:auto;line-height:normal;font-family:Menlo,'DejaVu Sans Mono',consolas,'Courier New',monospace\">┏━━━━━━━━━━━━━━━━━━━━━━━━━━━━━━━━━┳━━━━━━━━━━━━━━━━━━━━━━━━┳━━━━━━━━━━━━━━━┓\n",
       "┃<span style=\"font-weight: bold\"> Layer (type)                    </span>┃<span style=\"font-weight: bold\"> Output Shape           </span>┃<span style=\"font-weight: bold\">       Param # </span>┃\n",
       "┡━━━━━━━━━━━━━━━━━━━━━━━━━━━━━━━━━╇━━━━━━━━━━━━━━━━━━━━━━━━╇━━━━━━━━━━━━━━━┩\n",
       "│ dense (<span style=\"color: #0087ff; text-decoration-color: #0087ff\">Dense</span>)                   │ (<span style=\"color: #00d7ff; text-decoration-color: #00d7ff\">None</span>, <span style=\"color: #00af00; text-decoration-color: #00af00\">64</span>)             │         <span style=\"color: #00af00; text-decoration-color: #00af00\">1,984</span> │\n",
       "├─────────────────────────────────┼────────────────────────┼───────────────┤\n",
       "│ dense_1 (<span style=\"color: #0087ff; text-decoration-color: #0087ff\">Dense</span>)                 │ (<span style=\"color: #00d7ff; text-decoration-color: #00d7ff\">None</span>, <span style=\"color: #00af00; text-decoration-color: #00af00\">32</span>)             │         <span style=\"color: #00af00; text-decoration-color: #00af00\">2,080</span> │\n",
       "├─────────────────────────────────┼────────────────────────┼───────────────┤\n",
       "│ dropout (<span style=\"color: #0087ff; text-decoration-color: #0087ff\">Dropout</span>)               │ (<span style=\"color: #00d7ff; text-decoration-color: #00d7ff\">None</span>, <span style=\"color: #00af00; text-decoration-color: #00af00\">32</span>)             │             <span style=\"color: #00af00; text-decoration-color: #00af00\">0</span> │\n",
       "├─────────────────────────────────┼────────────────────────┼───────────────┤\n",
       "│ dense_2 (<span style=\"color: #0087ff; text-decoration-color: #0087ff\">Dense</span>)                 │ (<span style=\"color: #00d7ff; text-decoration-color: #00d7ff\">None</span>, <span style=\"color: #00af00; text-decoration-color: #00af00\">1</span>)              │            <span style=\"color: #00af00; text-decoration-color: #00af00\">33</span> │\n",
       "└─────────────────────────────────┴────────────────────────┴───────────────┘\n",
       "</pre>\n"
      ],
      "text/plain": [
       "┏━━━━━━━━━━━━━━━━━━━━━━━━━━━━━━━━━┳━━━━━━━━━━━━━━━━━━━━━━━━┳━━━━━━━━━━━━━━━┓\n",
       "┃\u001b[1m \u001b[0m\u001b[1mLayer (type)                   \u001b[0m\u001b[1m \u001b[0m┃\u001b[1m \u001b[0m\u001b[1mOutput Shape          \u001b[0m\u001b[1m \u001b[0m┃\u001b[1m \u001b[0m\u001b[1m      Param #\u001b[0m\u001b[1m \u001b[0m┃\n",
       "┡━━━━━━━━━━━━━━━━━━━━━━━━━━━━━━━━━╇━━━━━━━━━━━━━━━━━━━━━━━━╇━━━━━━━━━━━━━━━┩\n",
       "│ dense (\u001b[38;5;33mDense\u001b[0m)                   │ (\u001b[38;5;45mNone\u001b[0m, \u001b[38;5;34m64\u001b[0m)             │         \u001b[38;5;34m1,984\u001b[0m │\n",
       "├─────────────────────────────────┼────────────────────────┼───────────────┤\n",
       "│ dense_1 (\u001b[38;5;33mDense\u001b[0m)                 │ (\u001b[38;5;45mNone\u001b[0m, \u001b[38;5;34m32\u001b[0m)             │         \u001b[38;5;34m2,080\u001b[0m │\n",
       "├─────────────────────────────────┼────────────────────────┼───────────────┤\n",
       "│ dropout (\u001b[38;5;33mDropout\u001b[0m)               │ (\u001b[38;5;45mNone\u001b[0m, \u001b[38;5;34m32\u001b[0m)             │             \u001b[38;5;34m0\u001b[0m │\n",
       "├─────────────────────────────────┼────────────────────────┼───────────────┤\n",
       "│ dense_2 (\u001b[38;5;33mDense\u001b[0m)                 │ (\u001b[38;5;45mNone\u001b[0m, \u001b[38;5;34m1\u001b[0m)              │            \u001b[38;5;34m33\u001b[0m │\n",
       "└─────────────────────────────────┴────────────────────────┴───────────────┘\n"
      ]
     },
     "metadata": {},
     "output_type": "display_data"
    },
    {
     "data": {
      "text/html": [
       "<pre style=\"white-space:pre;overflow-x:auto;line-height:normal;font-family:Menlo,'DejaVu Sans Mono',consolas,'Courier New',monospace\"><span style=\"font-weight: bold\"> Total params: </span><span style=\"color: #00af00; text-decoration-color: #00af00\">12,293</span> (48.02 KB)\n",
       "</pre>\n"
      ],
      "text/plain": [
       "\u001b[1m Total params: \u001b[0m\u001b[38;5;34m12,293\u001b[0m (48.02 KB)\n"
      ]
     },
     "metadata": {},
     "output_type": "display_data"
    },
    {
     "data": {
      "text/html": [
       "<pre style=\"white-space:pre;overflow-x:auto;line-height:normal;font-family:Menlo,'DejaVu Sans Mono',consolas,'Courier New',monospace\"><span style=\"font-weight: bold\"> Trainable params: </span><span style=\"color: #00af00; text-decoration-color: #00af00\">4,097</span> (16.00 KB)\n",
       "</pre>\n"
      ],
      "text/plain": [
       "\u001b[1m Trainable params: \u001b[0m\u001b[38;5;34m4,097\u001b[0m (16.00 KB)\n"
      ]
     },
     "metadata": {},
     "output_type": "display_data"
    },
    {
     "data": {
      "text/html": [
       "<pre style=\"white-space:pre;overflow-x:auto;line-height:normal;font-family:Menlo,'DejaVu Sans Mono',consolas,'Courier New',monospace\"><span style=\"font-weight: bold\"> Non-trainable params: </span><span style=\"color: #00af00; text-decoration-color: #00af00\">0</span> (0.00 B)\n",
       "</pre>\n"
      ],
      "text/plain": [
       "\u001b[1m Non-trainable params: \u001b[0m\u001b[38;5;34m0\u001b[0m (0.00 B)\n"
      ]
     },
     "metadata": {},
     "output_type": "display_data"
    },
    {
     "data": {
      "text/html": [
       "<pre style=\"white-space:pre;overflow-x:auto;line-height:normal;font-family:Menlo,'DejaVu Sans Mono',consolas,'Courier New',monospace\"><span style=\"font-weight: bold\"> Optimizer params: </span><span style=\"color: #00af00; text-decoration-color: #00af00\">8,196</span> (32.02 KB)\n",
       "</pre>\n"
      ],
      "text/plain": [
       "\u001b[1m Optimizer params: \u001b[0m\u001b[38;5;34m8,196\u001b[0m (32.02 KB)\n"
      ]
     },
     "metadata": {},
     "output_type": "display_data"
    }
   ],
   "source": [
    "model.summary()"
   ]
  },
  {
   "cell_type": "markdown",
   "id": "7c16cbd0-e280-440c-aa8f-84eb9a40047a",
   "metadata": {},
   "source": [
    "**Load preprocessing artifacts**"
   ]
  },
  {
   "cell_type": "code",
   "execution_count": 15,
   "id": "15dceb99-a600-4211-b27a-91eb65a04f5e",
   "metadata": {},
   "outputs": [
    {
     "name": "stdout",
     "output_type": "stream",
     "text": [
      "Preprocessing artifacts downloaded to: /tmp/tmpf10bmr5e/preprocessing\n",
      "Scaler, encoder, and features loaded successfully!\n"
     ]
    }
   ],
   "source": [
    "# --------------------------\n",
    "# DOWNLOAD PREPROCESSING ARTIFACTS\n",
    "# --------------------------\n",
    "preproc_dir = mlflow.artifacts.download_artifacts(run_id=run_id, artifact_path=artifact_paths[\"preprocessing\"])\n",
    "print(\"Preprocessing artifacts downloaded to:\", preproc_dir)\n",
    "\n",
    "# Load scaler\n",
    "scaler_file = os.path.join(preproc_dir, \"scaler.pkl\")\n",
    "with open(scaler_file, \"rb\") as f:\n",
    "    scaler = pickle.load(f)\n",
    "\n",
    "# Load encoder\n",
    "encoder_file = os.path.join(preproc_dir, \"encoder.pkl\")\n",
    "with open(encoder_file, \"rb\") as f:\n",
    "    encoder = pickle.load(f)\n",
    "\n",
    "# Load features\n",
    "features_file = os.path.join(preproc_dir, \"features.json\")\n",
    "with open(features_file, \"r\") as f:\n",
    "    features = json.load(f)\n",
    "\n",
    "print(\"Scaler, encoder, and features loaded successfully!\")\n"
   ]
  },
  {
   "cell_type": "code",
   "execution_count": 16,
   "id": "5ffbc2a4-caa5-4d08-9d1b-617f8261cfed",
   "metadata": {},
   "outputs": [
    {
     "data": {
      "text/plain": [
       "array([1.41559238e+01, 1.93511328e+01, 9.21518750e+01, 6.58153516e+02,\n",
       "       9.61988672e-02, 1.03554531e-01, 8.85161713e-02, 4.88897402e-02,\n",
       "       1.81255273e-01, 6.27087305e-02, 4.09529102e-01, 1.21794902e+00,\n",
       "       2.90134512e+00, 4.10547617e+01, 6.94725781e-03, 2.51113359e-02,\n",
       "       3.16497336e-02, 1.17416348e-02, 2.04345078e-02, 3.75897129e-03,\n",
       "       1.63169453e+01, 2.57480273e+01, 1.07621934e+02, 8.86556445e+02,\n",
       "       1.32138906e-01, 2.53280762e-01, 2.71695561e-01, 1.14682229e-01,\n",
       "       2.90017188e-01, 8.38891016e-02])"
      ]
     },
     "execution_count": 16,
     "metadata": {},
     "output_type": "execute_result"
    }
   ],
   "source": [
    "scaler.mean_"
   ]
  },
  {
   "cell_type": "code",
   "execution_count": 17,
   "id": "e44eb5bc-46a4-4e43-b115-c52587979ef9",
   "metadata": {},
   "outputs": [
    {
     "data": {
      "text/plain": [
       "{'M': 1, 'B': 0}"
      ]
     },
     "execution_count": 17,
     "metadata": {},
     "output_type": "execute_result"
    }
   ],
   "source": [
    "encoder"
   ]
  },
  {
   "cell_type": "code",
   "execution_count": 18,
   "id": "8138853b-ece9-45b9-9d4a-8ccb7a18d4ec",
   "metadata": {},
   "outputs": [
    {
     "data": {
      "text/plain": [
       "{'features': ['radius_mean',\n",
       "  'texture_mean',\n",
       "  'perimeter_mean',\n",
       "  'area_mean',\n",
       "  'smoothness_mean',\n",
       "  'compactness_mean',\n",
       "  'concavity_mean',\n",
       "  'concave points_mean',\n",
       "  'symmetry_mean',\n",
       "  'fractal_dimension_mean',\n",
       "  'radius_se',\n",
       "  'texture_se',\n",
       "  'perimeter_se',\n",
       "  'area_se',\n",
       "  'smoothness_se',\n",
       "  'compactness_se',\n",
       "  'concavity_se',\n",
       "  'concave points_se',\n",
       "  'symmetry_se',\n",
       "  'fractal_dimension_se',\n",
       "  'radius_worst',\n",
       "  'texture_worst',\n",
       "  'perimeter_worst',\n",
       "  'area_worst',\n",
       "  'smoothness_worst',\n",
       "  'compactness_worst',\n",
       "  'concavity_worst',\n",
       "  'concave points_worst',\n",
       "  'symmetry_worst',\n",
       "  'fractal_dimension_worst']}"
      ]
     },
     "execution_count": 18,
     "metadata": {},
     "output_type": "execute_result"
    }
   ],
   "source": [
    "features"
   ]
  },
  {
   "cell_type": "markdown",
   "id": "7e5729c1-7d51-4335-8ccc-3b755e734b79",
   "metadata": {},
   "source": [
    "## <a id=\"4\" style=\"color: darkred; text-decoration: none;\">4. Results and visualization</a>\n",
    "\n",
    "**Hyperparameters and metrics**"
   ]
  },
  {
   "cell_type": "code",
   "execution_count": 19,
   "id": "a90c0fb0-2f09-45d2-93d5-8c23792e66d4",
   "metadata": {},
   "outputs": [],
   "source": [
    "# --------------------------\n",
    "# LOAD PARAMS AND METRICS\n",
    "# --------------------------\n",
    "params = best_run['params']\n",
    "metrics = best_run['metrics']"
   ]
  },
  {
   "cell_type": "code",
   "execution_count": 20,
   "id": "86ace29a-6b3d-4fb2-a56d-37eb1d375e15",
   "metadata": {},
   "outputs": [
    {
     "name": "stdout",
     "output_type": "stream",
     "text": [
      "=== Parameters ===\n"
     ]
    },
    {
     "data": {
      "text/html": [
       "<div>\n",
       "<style scoped>\n",
       "    .dataframe tbody tr th:only-of-type {\n",
       "        vertical-align: middle;\n",
       "    }\n",
       "\n",
       "    .dataframe tbody tr th {\n",
       "        vertical-align: top;\n",
       "    }\n",
       "\n",
       "    .dataframe thead th {\n",
       "        text-align: right;\n",
       "    }\n",
       "</style>\n",
       "<table border=\"1\" class=\"dataframe\">\n",
       "  <thead>\n",
       "    <tr style=\"text-align: right;\">\n",
       "      <th></th>\n",
       "      <th>Parameter</th>\n",
       "      <th>Value</th>\n",
       "    </tr>\n",
       "  </thead>\n",
       "  <tbody>\n",
       "    <tr>\n",
       "      <th>0</th>\n",
       "      <td>dropout_rate</td>\n",
       "      <td>0.4</td>\n",
       "    </tr>\n",
       "    <tr>\n",
       "      <th>1</th>\n",
       "      <td>model_name</td>\n",
       "      <td>model1</td>\n",
       "    </tr>\n",
       "    <tr>\n",
       "      <th>2</th>\n",
       "      <td>epochs</td>\n",
       "      <td>5</td>\n",
       "    </tr>\n",
       "    <tr>\n",
       "      <th>3</th>\n",
       "      <td>learning_rate</td>\n",
       "      <td>0.00544853401907757</td>\n",
       "    </tr>\n",
       "  </tbody>\n",
       "</table>\n",
       "</div>"
      ],
      "text/plain": [
       "       Parameter                Value\n",
       "0   dropout_rate                  0.4\n",
       "1     model_name               model1\n",
       "2         epochs                    5\n",
       "3  learning_rate  0.00544853401907757"
      ]
     },
     "metadata": {},
     "output_type": "display_data"
    },
    {
     "name": "stdout",
     "output_type": "stream",
     "text": [
      "\n",
      "=== Test Metrics ===\n"
     ]
    },
    {
     "data": {
      "text/html": [
       "<div>\n",
       "<style scoped>\n",
       "    .dataframe tbody tr th:only-of-type {\n",
       "        vertical-align: middle;\n",
       "    }\n",
       "\n",
       "    .dataframe tbody tr th {\n",
       "        vertical-align: top;\n",
       "    }\n",
       "\n",
       "    .dataframe thead th {\n",
       "        text-align: right;\n",
       "    }\n",
       "</style>\n",
       "<table border=\"1\" class=\"dataframe\">\n",
       "  <thead>\n",
       "    <tr style=\"text-align: right;\">\n",
       "      <th></th>\n",
       "      <th>Metric</th>\n",
       "      <th>Value</th>\n",
       "    </tr>\n",
       "  </thead>\n",
       "  <tbody>\n",
       "    <tr>\n",
       "      <th>0</th>\n",
       "      <td>loss</td>\n",
       "      <td>0.050374</td>\n",
       "    </tr>\n",
       "    <tr>\n",
       "      <th>1</th>\n",
       "      <td>recall</td>\n",
       "      <td>0.976190</td>\n",
       "    </tr>\n",
       "    <tr>\n",
       "      <th>2</th>\n",
       "      <td>accuracy</td>\n",
       "      <td>0.991228</td>\n",
       "    </tr>\n",
       "    <tr>\n",
       "      <th>3</th>\n",
       "      <td>precision</td>\n",
       "      <td>1.000000</td>\n",
       "    </tr>\n",
       "    <tr>\n",
       "      <th>4</th>\n",
       "      <td>f1</td>\n",
       "      <td>0.987952</td>\n",
       "    </tr>\n",
       "  </tbody>\n",
       "</table>\n",
       "</div>"
      ],
      "text/plain": [
       "      Metric     Value\n",
       "0       loss  0.050374\n",
       "1     recall  0.976190\n",
       "2   accuracy  0.991228\n",
       "3  precision  1.000000\n",
       "4         f1  0.987952"
      ]
     },
     "metadata": {},
     "output_type": "display_data"
    },
    {
     "name": "stdout",
     "output_type": "stream",
     "text": [
      "\n",
      "=== Validation Metrics ===\n"
     ]
    },
    {
     "data": {
      "text/html": [
       "<div>\n",
       "<style scoped>\n",
       "    .dataframe tbody tr th:only-of-type {\n",
       "        vertical-align: middle;\n",
       "    }\n",
       "\n",
       "    .dataframe tbody tr th {\n",
       "        vertical-align: top;\n",
       "    }\n",
       "\n",
       "    .dataframe thead th {\n",
       "        text-align: right;\n",
       "    }\n",
       "</style>\n",
       "<table border=\"1\" class=\"dataframe\">\n",
       "  <thead>\n",
       "    <tr style=\"text-align: right;\">\n",
       "      <th></th>\n",
       "      <th>Metric</th>\n",
       "      <th>Value</th>\n",
       "    </tr>\n",
       "  </thead>\n",
       "  <tbody>\n",
       "    <tr>\n",
       "      <th>0</th>\n",
       "      <td>recall</td>\n",
       "      <td>1.000000</td>\n",
       "    </tr>\n",
       "    <tr>\n",
       "      <th>1</th>\n",
       "      <td>f1_score</td>\n",
       "      <td>1.000000</td>\n",
       "    </tr>\n",
       "    <tr>\n",
       "      <th>2</th>\n",
       "      <td>accuracy</td>\n",
       "      <td>1.000000</td>\n",
       "    </tr>\n",
       "    <tr>\n",
       "      <th>3</th>\n",
       "      <td>loss</td>\n",
       "      <td>0.029188</td>\n",
       "    </tr>\n",
       "    <tr>\n",
       "      <th>4</th>\n",
       "      <td>precision</td>\n",
       "      <td>1.000000</td>\n",
       "    </tr>\n",
       "  </tbody>\n",
       "</table>\n",
       "</div>"
      ],
      "text/plain": [
       "      Metric     Value\n",
       "0     recall  1.000000\n",
       "1   f1_score  1.000000\n",
       "2   accuracy  1.000000\n",
       "3       loss  0.029188\n",
       "4  precision  1.000000"
      ]
     },
     "metadata": {},
     "output_type": "display_data"
    }
   ],
   "source": [
    "# Extract params and metrics\n",
    "params = best_run['params']\n",
    "metrics = best_run['metrics']\n",
    "\n",
    "# Convert to vertical DataFrames\n",
    "params_df = pd.DataFrame(list(params.items()), columns=['Parameter', 'Value'])\n",
    "\n",
    "# Separate test metrics (those starting with 'test_')\n",
    "test_metrics = {k.replace('test_', ''): v for k, v in metrics.items() if k.startswith('test_')}\n",
    "val_metrics = {k: v for k, v in metrics.items() if not k.startswith('test_')}\n",
    "\n",
    "# Convert to vertical DataFrames\n",
    "test_df = pd.DataFrame(list(test_metrics.items()), columns=['Metric', 'Value'])\n",
    "val_df = pd.DataFrame(list(val_metrics.items()), columns=['Metric', 'Value'])\n",
    "\n",
    "# Display\n",
    "# Display\n",
    "print(\"=== Parameters ===\")\n",
    "display(params_df)\n",
    "\n",
    "print(\"\\n=== Test Metrics ===\")\n",
    "display(test_df)\n",
    "\n",
    "print(\"\\n=== Validation Metrics ===\")\n",
    "display(val_df)\n"
   ]
  },
  {
   "cell_type": "markdown",
   "id": "9ffc2dee-50c9-4b70-9e94-e0d8bc0c33e6",
   "metadata": {},
   "source": [
    "**Confusion Matrix** "
   ]
  },
  {
   "cell_type": "code",
   "execution_count": 23,
   "id": "42b63507-9df8-4487-9ca6-152433a811e4",
   "metadata": {},
   "outputs": [
    {
     "name": "stdout",
     "output_type": "stream",
     "text": [
      "['roc_curve.png', 'confusion_matrix.png']\n"
     ]
    },
    {
     "data": {
      "image/png": "[encoded data removed]",
      "text/plain": [
       "<Figure size 640x480 with 1 Axes>"
      ]
     },
     "metadata": {},
     "output_type": "display_data"
    }
   ],
   "source": [
    "# Download the folder with plots\n",
    "plots_dir = mlflow.artifacts.download_artifacts(run_id=run_id, artifact_path=\"plots\")\n",
    "\n",
    "# Check what files exist\n",
    "print(os.listdir(plots_dir))\n",
    "\n",
    "# Build the full path (make sure spelling matches your saved file)\n",
    "conf_matrix_path = os.path.join(plots_dir, \"confusion_matrix.png\")\n",
    "\n",
    "# Load and display in Jupyter\n",
    "img = mpimg.imread(conf_matrix_path)\n",
    "plt.imshow(img)\n",
    "plt.axis(\"off\")\n",
    "plt.show()"
   ]
  },
  {
   "cell_type": "markdown",
   "id": "084fe121-fa61-4b3e-8ab3-6bae82a65932",
   "metadata": {},
   "source": [
    "**ROC curve**"
   ]
  },
  {
   "cell_type": "code",
   "execution_count": 24,
   "id": "7ac347ab-43e1-4723-914e-b806eca2ad42",
   "metadata": {},
   "outputs": [
    {
     "name": "stdout",
     "output_type": "stream",
     "text": [
      "['roc_curve.png', 'confusion_matrix.png']\n"
     ]
    },
    {
     "data": {
      "image/png": "[encoded data removed]",
      "text/plain": [
       "<Figure size 640x480 with 1 Axes>"
      ]
     },
     "metadata": {},
     "output_type": "display_data"
    }
   ],
   "source": [
    "# Download the folder with plots\n",
    "plots_dir = mlflow.artifacts.download_artifacts(run_id=run_id, artifact_path=\"plots\")\n",
    "\n",
    "# Check what files exist\n",
    "print(os.listdir(plots_dir))\n",
    "\n",
    "# Build the full path (make sure spelling matches your saved file)\n",
    "conf_matrix_path = os.path.join(plots_dir, \"roc_curve.png\")\n",
    "\n",
    "# Load and display in Jupyter\n",
    "img = mpimg.imread(conf_matrix_path)\n",
    "plt.imshow(img)\n",
    "plt.axis(\"off\")\n",
    "plt.show()"
   ]
  },
  {
   "cell_type": "markdown",
   "id": "a1f2115f-fa0f-40ba-80de-776016eb930b",
   "metadata": {},
   "source": [
    "## <a id=\"5\" style=\"color: darkred; text-decoration: none;\">5. Inference</a>"
   ]
  },
  {
   "cell_type": "code",
   "execution_count": 25,
   "id": "0f76bd82-a1c0-46a8-a80d-58b89d307106",
   "metadata": {},
   "outputs": [
    {
     "data": {
      "text/plain": [
       "array([[-3.85323347e+00, -4.47520679e+00, -3.75390823e+00,\n",
       "        -1.84612337e+00,  9.99003155e+00,  1.01871233e+01,\n",
       "         3.60462906e+00,  1.50266627e+01,  1.20449514e+01,\n",
       "         4.39329467e+01, -8.80033470e-01, -6.38468832e-01,\n",
       "        -1.08914230e+00, -8.62907375e-01,  2.67487325e+01,\n",
       "         4.78504545e+01,  3.03332779e+01,  9.17638063e+01,\n",
       "         1.04419292e+02,  1.13322088e+02, -3.18603853e+00,\n",
       "        -4.12689869e+00, -3.15698491e+00, -1.53677912e+00,\n",
       "         3.02684986e+01,  3.17178774e+00, -1.94617514e-02,\n",
       "         6.07558342e+00, -7.87783178e-01,  4.97672732e+01]])"
      ]
     },
     "execution_count": 25,
     "metadata": {},
     "output_type": "execute_result"
    }
   ],
   "source": [
    "# simulate new data\n",
    "new_data = np.random.rand(30)\n",
    "\n",
    "# Convert to DataFrame with proper column names\n",
    "new_data_df = pd.DataFrame([new_data], columns=features['features'])\n",
    "\n",
    "# apply scaler\n",
    "scaled_data = scaler.transform(new_data_df)\n",
    "\n",
    "scaled_data"
   ]
  },
  {
   "cell_type": "code",
   "execution_count": 26,
   "id": "ffa0520f-8e23-4b5d-ace4-12bd00ab1bff",
   "metadata": {},
   "outputs": [
    {
     "name": "stdout",
     "output_type": "stream",
     "text": [
      "\u001b[1m1/1\u001b[0m \u001b[32m━━━━━━━━━━━━━━━━━━━━\u001b[0m\u001b[37m\u001b[0m \u001b[1m0s\u001b[0m 57ms/step\n"
     ]
    }
   ],
   "source": [
    "y_pred = model.predict(scaled_data)"
   ]
  },
  {
   "cell_type": "code",
   "execution_count": 52,
   "id": "47d45bd9-e5a6-4a10-b245-43d7823f8d7f",
   "metadata": {},
   "outputs": [
    {
     "data": {
      "text/plain": [
       "array([[1.8123825e-12]], dtype=float32)"
      ]
     },
     "execution_count": 52,
     "metadata": {},
     "output_type": "execute_result"
    }
   ],
   "source": [
    "y_pred"
   ]
  }
 ],
 "metadata": {
  "kernelspec": {
   "display_name": "Python 3 (ipykernel)",
   "language": "python",
   "name": "python3"
  },
  "language_info": {
   "codemirror_mode": {
    "name": "ipython",
    "version": 3
   },
   "file_extension": ".py",
   "mimetype": "text/x-python",
   "name": "python",
   "nbconvert_exporter": "python",
   "pygments_lexer": "ipython3",
   "version": "3.10.12"
  }
 },
 "nbformat": 4,
 "nbformat_minor": 5
}
